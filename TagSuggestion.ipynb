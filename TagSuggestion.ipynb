{
 "cells": [
  {
   "cell_type": "code",
   "execution_count": 17,
   "metadata": {},
   "outputs": [],
   "source": [
    "# module used to build information extraction or natural language understanding systems\n",
    "import spacy\n",
    "from scipy import spatial\n"
   ]
  },
  {
   "cell_type": "code",
   "execution_count": 18,
   "metadata": {},
   "outputs": [],
   "source": [
    "#python -m spacy download en_core_web_md command to install the spacy model\n",
    "nlp = spacy.load('en_core_web_md')\n"
   ]
  },
  {
   "cell_type": "code",
   "execution_count": 19,
   "metadata": {},
   "outputs": [
    {
     "output_type": "stream",
     "name": "stdout",
     "text": "Compute the cosine similarity between two items.\n"
    }
   ],
   "source": [
    "print(\"Compute the cosine similarity between two items.\")\n",
    "def find_cosine_similarity(firstvector,secondvector):\n",
    " return  1 - spatial.distance.cosine(firstvector,secondvector)"
   ]
  },
  {
   "cell_type": "code",
   "execution_count": 60,
   "metadata": {},
   "outputs": [
    {
     "output_type": "stream",
     "name": "stdout",
     "text": "This function returns the suggested tags for the given string or essay\nparameters needed :1.Textstring 2.Number of additional tags you need which are near to the \n"
    }
   ],
   "source": [
    "import string\n",
    "print(\"This function returns the suggested tags for the given string or essay\")\n",
    "print(\"parameters needed :1.Textstring 2.Number of additional tags you need which are near to the \")\n",
    "def extracted_tags (textstring,number_of_tags_needed=4):\n",
    "    doc = nlp(textstring)\n",
    "    Tags=[]\n",
    "    #nlp.Defaults.stop_words contains the stop wortds such as the, is, at, which, and on\n",
    "    #isalpha helps us to get only alphabet character strings\n",
    "    Tags = [token.lemma_ for token in doc if token.text not in nlp.Defaults.stop_words and token.text.isalpha()]\n",
    "    print('Extracted Tokens without cleaning :',end=\" \")\n",
    "    for token in doc:\n",
    "     print(token,end=\", \")\n",
    "\n",
    "    print('\\nExtracted Tokens without stopwords after lemmatization :',end=\" \")\n",
    "    print(Tags)\n",
    "    # a_lemmas = [lemma for lemma in lemmas if lemma.isalpha() and lemma != '-PRON-']\n",
    "    ext_tags=Tags\n",
    "    print('\\nEntities of string : ',end=\" \")\n",
    "    print(doc.ents)\n",
    "    EntityList = []\n",
    "    print('\\nExtracted tags from the string :\\n',end=\"\")\n",
    "    for word in ext_tags:\n",
    "     print(\"#\"+word)\n",
    "    for ent in doc.ents:\n",
    "        # print(ent)\n",
    "        Tags.append(ent.text)\n",
    "        # print(Tags)\n",
    "        vec1 = nlp.vocab[ent.text].vector\n",
    "        # print(\"vector : \",end=\" \")\n",
    "        # print(vec1)\n",
    "        if (vec1.sum()):\n",
    "            for word in nlp.vocab:\n",
    "                if word.has_vector:\n",
    "                    if word.is_lower:\n",
    "                        if word.is_alpha:\n",
    "                            cs = find_cosine_similarity(vec1,word.vector)\n",
    "                            EntityList.append((word,cs))\n",
    "    EntityList = sorted(EntityList,key=lambda item: -item[1])\n",
    "    EntityList = [t[0].text for t in EntityList[:number_of_tags_needed]]\n",
    "   return list(set(EntityList))"
   ]
  },
  {
   "cell_type": "code",
   "execution_count": 61,
   "metadata": {},
   "outputs": [
    {
     "output_type": "stream",
     "name": "stdout",
     "text": "Extracted Tokens without cleaning : Hameed, is, developing, country, \nExtracted Tokens without stopwords after lemmatization : ['Hameed', 'develop', 'country']\n\nEntities of string :  (Hameed,)\n\nExtracted tags from the string :\n#Hameed\n#develop\n#country\n"
    }
   ],
   "source": [
    "\n",
    "tags = extracted_tags(\"Hameed is developing country\",9)"
   ]
  },
  {
   "cell_type": "code",
   "execution_count": 62,
   "metadata": {},
   "outputs": [
    {
     "output_type": "stream",
     "name": "stdout",
     "text": "Additional tags : \n['jasinski', 'vipul', 'pranav', 'aftab', 'shrestha', 'tengku', 'hameed', 'cengiz', 'darwish']\n"
    }
   ],
   "source": [
    "print(\"Additional tags : \")\n",
    "print(tags)"
   ]
  },
  {
   "cell_type": "code",
   "execution_count": null,
   "metadata": {},
   "outputs": [],
   "source": []
  }
 ],
 "metadata": {
  "language_info": {
   "codemirror_mode": {
    "name": "ipython",
    "version": 3
   },
   "file_extension": ".py",
   "mimetype": "text/x-python",
   "name": "python",
   "nbconvert_exporter": "python",
   "pygments_lexer": "ipython3",
   "version": "3.6.10-final"
  },
  "orig_nbformat": 2,
  "kernelspec": {
   "name": "python361064bitfc1fc2b22b7a46af971673e48cf69fec",
   "display_name": "Python 3.6.10 64-bit"
  }
 },
 "nbformat": 4,
 "nbformat_minor": 2
}